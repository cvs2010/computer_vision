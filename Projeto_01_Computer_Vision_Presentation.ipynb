{
  "nbformat": 4,
  "nbformat_minor": 0,
  "metadata": {
    "colab": {
      "provenance": [],
      "authorship_tag": "ABX9TyNDeYJeEeIv+R8pjKUejDD/",
      "include_colab_link": true
    },
    "kernelspec": {
      "name": "python3",
      "display_name": "Python 3"
    },
    "language_info": {
      "name": "python"
    }
  },
  "cells": [
    {
      "cell_type": "markdown",
      "metadata": {
        "id": "view-in-github",
        "colab_type": "text"
      },
      "source": [
        "<a href=\"https://colab.research.google.com/github/cvs2010/computer_vision/blob/main/Aula_01_Apresenta%C3%A7%C3%A3o.ipynb\" target=\"_parent\"><img src=\"https://colab.research.google.com/assets/colab-badge.svg\" alt=\"Open In Colab\"/></a>"
      ]
    },
    {
      "cell_type": "markdown",
      "source": [
        "<h1 align=\"center\"><b>O Que é Visão Computacional?</h1>"
      ],
      "metadata": {
        "id": "YUWr3TltYQTS"
      }
    },
    {
      "cell_type": "markdown",
      "source": [
        "<p align=\"center\"><img src=\"https://github.com/cvs2010/computer_vision/blob/main/files/VC.png?raw=true\" width=\"70%\"></p>"
      ],
      "metadata": {
        "id": "ZJRIH5qzZy_P"
      }
    },
    {
      "cell_type": "markdown",
      "source": [
        "\n",
        "Imagine a seguinte situação: você está em uma sala com mais duas pessoas. Uma delas arremessa uma bola e você a pega com as mãos. Parece algo simples, não é mesmo?\n",
        "\n",
        "Na verdade, está errado. Esse é um dos processos mais complexos que tentamos compreender: como o cérebro processa a visão para que saibamos exatamente o que é uma bola e quando ela está vindo em nossa direção.\n",
        "\n",
        "Ensinar uma máquina a enxergar da mesma forma que nós, seres humanos, é uma tarefa realmente desafiadora. Não é apenas difícil fazer com que os computadores executem cálculos matemáticos que reproduzam a visão humana, mas também não temos total compreensão de como o processo visual realmente funciona.\n",
        "\n",
        "Vamos descrever de forma resumida e aproximada como ocorre o processo de visão no caso do arremesso da bola: a imagem da esfera passa pelo seu olho e atinge a retina, que faz uma análise inicial e envia os resultados ao cérebro. O córtex visual analisa mais profundamente a imagem e, em seguida, compartilha essa informação com o restante do córtex, que compara com o que já conhecemos, classifica objetos e dimensões e, por fim, decide o que fazer, como levantar a mão e pegar a bola (prevendo seu trajeto). Isso tudo acontece em questão de segundos, com pouco esforço consciente e raramente falha.\n",
        "\n",
        "Recriar a visão humana não é apenas um problema difícil, é um conjunto de desafios interdependentes. Cada um deles depende do outro. Neste vídeo do YouTube, é possível ver como esse processo foi reproduzido em robôs.\n",
        "\n",
        "\n",
        "<p align=\"center\"><img src=\"https://miro.medium.com/v2/resize:fit:1400/1*8gmgaAkFdI-9OHY5cA93xQ.png\" width=\"60%\"></p>"
      ],
      "metadata": {
        "id": "3DH2RDL5aNfe"
      }
    },
    {
      "cell_type": "code",
      "source": [
        "from IPython.display import HTML\n",
        "\n",
        "HTML('<iframe width=\"560\" height=\"315\" src=\"https://www.youtube.com/embed/R6pPwP3s7s4\"\n",
        "frameborder=\"0\" allow=\"accelerometer; autoplay; encrypted-media; gyroscope;\n",
        "picture-in-picture\" allowfullscreen></iframe>')"
      ],
      "metadata": {
        "colab": {
          "base_uri": "https://localhost:8080/",
          "height": 337
        },
        "id": "xzZOarHFtapA",
        "outputId": "993e5247-7522-419a-8529-d38009fe2255"
      },
      "execution_count": 4,
      "outputs": [
        {
          "output_type": "execute_result",
          "data": {
            "text/plain": [
              "<IPython.core.display.HTML object>"
            ],
            "text/html": [
              "<iframe width=\"560\" height=\"315\" src=\"https://www.youtube.com/embed/R6pPwP3s7s4\" frameborder=\"0\" allow=\"accelerometer; autoplay; encrypted-media; gyroscope; picture-in-picture\" allowfullscreen></iframe>"
            ]
          },
          "metadata": {},
          "execution_count": 4
        }
      ]
    },
    {
      "cell_type": "markdown",
      "source": [
        "A Visão Computacional é o processo de modelar e replicar a visão humana usando software e hardware. Ela é uma disciplina que estuda como reconstruir, interpretar e compreender uma cena tridimensional a partir de suas imagens bidimensionais, levando em consideração as propriedades estruturais presentes na cena.\n",
        "\n",
        "Embora os termos Visão Computacional e reconhecimento de imagem sejam frequentemente usados como sinônimos, o primeiro abrange mais do que apenas a análise de imagens. Isso ocorre porque, mesmo para os seres humanos, \"ver\" envolve também a percepção em várias outras facetas, juntamente com uma série de análises. Os seres humanos usam cerca de dois terços de seu cérebro para o processamento visual, portanto, não é surpreendente que os computadores também precisem ir além do reconhecimento de imagem para obter uma visão precisa.\n",
        "\n",
        "O reconhecimento de imagens em si, que envolve a análise de pixels e padrões de imagens, é uma parte fundamental do processo de Visão Computacional. Ele abrange desde o reconhecimento de objetos e caracteres até a análise de texto e sentimentos. No entanto, o reconhecimento de imagem atualmente está em grande parte limitado a identificar objetos básicos, como \"uma banana ou uma bicicleta em uma imagem\". Mesmo crianças são capazes disso. No entanto, o potencial da Visão Computacional vai além: capacidade de enxergar claramente no escuro, através de paredes, a longas distâncias e processar esses dados rapidamente em grande volume.\n",
        "\n",
        "A Visão Computacional, em seu sentido mais amplo, está sendo aplicada no cotidiano e nos negócios para realizar uma variedade de tarefas, como identificar doenças médicas em radiografias, reconhecer produtos e onde comprá-los, inserir anúncios em imagens editoriais, entre outros.\n",
        "\n",
        "A Visão Computacional também pode ser usada para digitalizar plataformas de mídia social a fim de encontrar imagens relevantes que não podem ser descobertas por meio de pesquisas tradicionais. Essa tecnologia é complexa e, assim como todas as tarefas mencionadas anteriormente, requer mais do que apenas reconhecimento de imagem, mas também análise semântica de grandes conjuntos de dados.\n",
        "\n",
        "Ninguém nunca disse que seria fácil, exceto talvez Marvin Minsky, pioneiro em Inteligência Artificial, que em 1966 instruiu um estudante de pós-graduação a \"conectar uma câmera a um computador e fazê-lo descrever o que vê\". No entanto, mais de 50 anos depois, ainda estamos trabalhando nisso, mas agora há uma diferença (ou talvez duas): temos Big Data e Processamento Paralelo em GPUs. E acredite, isso está fazendo uma grande diferença.\n",
        "\n",
        "A pesquisa séria sobre Visão Computacional começou nos anos 50, seguindo três linhas distintas: replicar o funcionamento do olho (difícil), replicar o funcionamento do córtex visual (muito difícil) e reproduzir o funcionamento do restante do cérebro (sem dúvida, o problema mais difícil já enfrentado).\n",
        "\n",
        "Reinventar o olho é a área em que tivemos mais sucesso. Nas\n",
        "\n",
        " últimas décadas, desenvolvemos sensores e processadores de imagem que combinam e até superam as capacidades do olho humano. Com lentes maiores e mais \"ópticamente perfeitas\" e subpixels semicondutores fabricados em escala nanométrica, a precisão e a sensibilidade das câmeras modernas são incríveis. Essas câmeras também podem capturar milhares de imagens por segundo e detectar distâncias com grande precisão.\n",
        "\n",
        "No entanto, apesar da alta fidelidade de suas saídas, esses dispositivos são, em muitos aspectos, não muito melhores do que uma câmera comum do século XX: eles simplesmente registram a distribuição de fótons que chegam em uma determinada direção. O melhor sensor de câmera já desenvolvido não seria capaz de reconhecer uma bola, muito menos pegá-la. O hardware, por si só, é severamente limitado sem o software, que é o maior problema a ser resolvido. No entanto, a tecnologia das câmeras modernas fornece uma plataforma rica e flexível para trabalhar.\n",
        "\n",
        "É importante mencionar que nossos cérebros são construídos do zero com a visão em mente. Mais do cérebro é dedicado à visão do que qualquer outra tarefa, e a especialização nessa atividade vai até o nível celular. Bilhões de células trabalham juntas para extrair padrões do sinal ruidoso e desorganizado da retina.\n",
        "\n",
        "Conjuntos de neurônios excitam uns aos outros, e redes em níveis mais altos agregam esses padrões em meta-padrões. As camadas vão crescendo em tamanho até que uma imagem começa a emergir dessas descrições brutas, mas complementares.\n",
        "\n",
        "No início, as pesquisas sobre Visão Computacional, considerando essas redes como extremamente complexas, adotaram uma abordagem diferente: o raciocínio \"de cima para baixo\" (top-down). Isso funcionou bem para alguns objetos em situações controladas, mas imagine tentar descrever todos os objetos ao seu redor, de todos os ângulos, com variações de iluminação, movimento e uma centena de outros fatores. Ficou claro que seriam necessários conjuntos de dados impraticáveis para alcançar níveis de reconhecimento comparáveis aos de crianças pequenas.\n",
        "\n",
        "Uma abordagem \"de baixo para cima\" (bottom-up), imitando o que acontece no cérebro, é mais promissora. Um computador pode aplicar uma série de transformações em uma imagem e descobrir bordas, objetos que elas implicam, perspectiva, movimento, entre outros, quando apresentado com várias imagens. Os processos envolvem uma quantidade significativa de matemática e estatística, mas equivalem ao computador tentando relacionar as formas que ele vê com as formas que foi treinado para reconhecer - assim como nossos cérebros foram treinados (alguém mostrou uma imagem de um carro para você e ensinou que aquilo era um carro). Em processos supervisionados de aprendizado de máquina, fazemos o mesmo com algoritmos.\n"
      ],
      "metadata": {
        "id": "UMvOKOivj1tk"
      }
    },
    {
      "cell_type": "markdown",
      "source": [
        "<p align=\"center\"><img src=\"https://i0.wp.com/blog.dsacademy.com.br/wp-content/uploads/2017/01/computer-vision.png?w=978&ssl=1\" width=\"60%\"></p>"
      ],
      "metadata": {
        "id": "8GV4kZlOmKBW"
      }
    },
    {
      "cell_type": "markdown",
      "source": [
        "Recentemente, ocorreram avanços significativos na criação e operação de redes neurais artificiais, superando as limitações computacionais que antes eram um obstáculo. Graças aos progressos na computação paralela, presenciamos uma explosão de pesquisas e aplicações de sistemas que imitam, ainda que de forma aproximada, o funcionamento do nosso cérebro. Esse progresso tem acelerado o processo de reconhecimento de padrões em ordens de magnitude, e a cada dia estamos fazendo avanços significativos nessa área. Um exemplo bem-sucedido desse avanço é o uso de Redes Neurais Convolucionais em tarefas de Visão Computacional, onde alcançam altos níveis de precisão. O Deep Learning tem sido fundamental nesse contexto.\n",
        "\n",
        "As Redes Neurais Convolucionais representam o ponto de convergência entre a Ciência da Computação e a Inteligência Artificial, e é nessa área que temos depositado grandes expectativas atualmente. Os avanços são visíveis, como podemos observar em vídeos de carros autônomos, e em breve o Uber planeja lançar sua frota de carros sem motorista. Esses veículos autônomos são exemplos concretos da aplicação da Visão Computacional.\n",
        "\n",
        "O futuro da Visão Computacional envolve a integração de sistemas poderosos e especializados com sistemas mais amplos que abordam conceitos um pouco mais complexos de definir, como contexto, atenção e intenção.\n",
        "\n",
        "Apesar de ainda estar em estágios iniciais, a Visão Computacional já se mostra incrivelmente útil. Encontramos essa tecnologia em nossas câmeras, reconhecendo rostos e sorrisos. Ela está presente em carros autônomos, lendo sinais de trânsito e identificando pedestres. Também é utilizada em robôs de fábrica, monitorando problemas e navegando ao redor de colegas de trabalho humanos. Embora ainda haja muito a percorrer antes que os algoritmos processem a visão da mesma forma que nós, humanos, estamos evoluindo rapidamente na resolução de problemas de Visão Computacional, o que faz dessa área uma das mais promissoras da Inteligência Artificial."
      ],
      "metadata": {
        "id": "0IKB39_ckuWS"
      }
    },
    {
      "cell_type": "markdown",
      "source": [
        "<p align=\"center\"><img src=\"https://i0.wp.com/blog.dsacademy.com.br/wp-content/uploads/2017/01/Redes-Neurais-Convolucionais.png?w=953&ssl=1\" width=\"60%\"></p>"
      ],
      "metadata": {
        "id": "DeweKOl9nhO3"
      }
    }
  ]
}
